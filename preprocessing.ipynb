{
 "cells": [
  {
   "cell_type": "code",
   "execution_count": null,
   "metadata": {},
   "outputs": [],
   "source": [
    "import os\n",
    "import numpy as np\n",
    "import pandas as pd\n",
    "import glob\n",
    "from tqdm import tqdm\n",
    "import cv2"
   ]
  },
  {
   "cell_type": "markdown",
   "metadata": {},
   "source": [
    "data 폴더를 새로 생성하여 x, y의 이름을 가지는 하위폴더를 생성합니다.\n",
    "기존 train_img파일은 `./data/x/`폴더로 이동합니다.\n",
    "```bash\n",
    "mv ./train_img/* ./data/x/\n",
    "```"
   ]
  },
  {
   "cell_type": "markdown",
   "metadata": {},
   "source": [
    "따라서 주어진 csv의 img_path를 위 경로에 맞게 변경해야합니다."
   ]
  },
  {
   "cell_type": "code",
   "execution_count": null,
   "metadata": {},
   "outputs": [],
   "source": [
    "train_csv = pd.read_csv('./train.csv')\n",
    "train_csv['img_path'] = train_csv['img_path'].apply(lambda x: x.replace('./train_img/', './data/x/'))\n",
    "train_csv.to_csv('./train.csv', index=False)"
   ]
  },
  {
   "cell_type": "markdown",
   "metadata": {},
   "source": [
    "`./data/y/` 에는 아래의 코드로 마스크가 디코딩되어 이미지로 저장됩니다."
   ]
  },
  {
   "cell_type": "markdown",
   "metadata": {},
   "source": [
    "### 인코딩 된 마스크를 디코딩하여 이미지파일로 저장 (y)"
   ]
  },
  {
   "cell_type": "code",
   "execution_count": null,
   "metadata": {},
   "outputs": [],
   "source": [
    "def rle_decode(mask_rle, shape=(1024, 1024)):\n",
    "    s = mask_rle.split()\n",
    "    starts, lengths = [np.asarray(x, dtype=int) for x in (s[0:][::2], s[1:][::2])]\n",
    "    starts -= 1\n",
    "    ends = starts + lengths\n",
    "    img = np.zeros(shape[0] * shape[1], dtype=np.uint8)\n",
    "    for lo, hi in zip(starts, ends):\n",
    "        img[lo:hi] = 1\n",
    "\n",
    "    img.reshape(shape)\n",
    "    return img.reshape(shape)\n",
    "\n",
    "for index, row in tqdm(train_csv.iterrows()):\n",
    "    image_path = row['img_path']\n",
    "    mask_rle = row['mask_rle']\n",
    "    \n",
    "    image = Image.open(image_path).convert('RGB')\n",
    "    image = np.array(image)\n",
    "    mask = rle_decode(mask_rle)\n",
    "    \n",
    "    cv2.imwrite(f'./data/y/{row[\"img_id\"]}.png', mask)\n"
   ]
  },
  {
   "cell_type": "markdown",
   "metadata": {},
   "source": [
    "## Image Tiling (256) code\n",
    "train데이터는 1024 * 1024, test데이터는 224 * 224 입니다. 이에 착안하여 데이터를 더욱 다양화하고 증폭시키자 train이미지를 256사이즈로 tiling하여 별도의 이미지로 저장합니다."
   ]
  },
  {
   "cell_type": "code",
   "execution_count": null,
   "metadata": {},
   "outputs": [],
   "source": [
    "file_list=glob.glob('./train_img/x/*.png')\n",
    "\n",
    "output_folder='./data/x/'\n",
    "\n",
    "image_width = 1024\n",
    "image_height = 1024\n",
    "\n",
    "window_size = 256\n",
    "\n",
    "num_windows_x = (image_width - window_size) // window_size + 1\n",
    "num_windows_y = (image_height - window_size) // window_size + 1\n",
    "\n",
    "image_patches = []\n",
    "for cnt,file in enumerate(file_list):\n",
    "    image=cv2.imread(file)\n",
    "    for i in range(num_windows_x):\n",
    "        for j in range(num_windows_y):\n",
    "            start_x = i * window_size\n",
    "            start_y = j * window_size\n",
    "            end_x = start_x + window_size\n",
    "            end_y = start_y + window_size\n",
    "\n",
    "            image_patch = image[start_y:end_y, start_x:end_x]\n",
    "            image_patches.append(image_patch)\n",
    "\n",
    "cnt2=0\n",
    "for i,file in enumerate(image_patches):\n",
    "    output_path = os.path.join(output_folder,f'slide_image_{cnt2}_{i}.png')\n",
    "    if i==0:\n",
    "        pass\n",
    "    elif i%15==0:\n",
    "        cnt2+=1\n",
    "    \n",
    "    cv2.imwrite(output_path,file)"
   ]
  },
  {
   "cell_type": "code",
   "execution_count": null,
   "metadata": {},
   "outputs": [],
   "source": [
    "import numpy as np\n",
    "file_list=glob.glob('./train_img/y/*.png')\n",
    "output_folder='./data/y/'\n",
    "    \n",
    "image_width = 1024\n",
    "image_height = 1024\n",
    "\n",
    "window_size = 256\n",
    "\n",
    "num_windows_x = (image_width - window_size) // window_size + 1\n",
    "num_windows_y = (image_height - window_size) // window_size + 1\n",
    "\n",
    "image_patches = []\n",
    "for cnt,file in enumerate(file_list):\n",
    "    image=cv2.imread(file)\n",
    "    for i in range(num_windows_x):\n",
    "        for j in range(num_windows_y):\n",
    "            start_x = i * window_size\n",
    "            start_y = j * window_size\n",
    "            end_x = start_x + window_size\n",
    "            end_y = start_y + window_size\n",
    "\n",
    "            image_patch = image[start_y:end_y, start_x:end_x]\n",
    "            image_patches.append(image_patch)\n",
    "\n",
    "cnt2=0\n",
    "for i,file in enumerate(image_patches):\n",
    "    output_path = os.path.join(output_folder,f'slide_image_mask_{cnt2}_{i}.png')\n",
    "    if i==0:\n",
    "        pass\n",
    "    elif i%15==0:\n",
    "        cnt2+=1\n",
    "    \n",
    "    cv2.imwrite(output_path,file)"
   ]
  },
  {
   "cell_type": "markdown",
   "metadata": {},
   "source": [
    "# 새로운 csv 생성\n"
   ]
  },
  {
   "cell_type": "code",
   "execution_count": null,
   "metadata": {},
   "outputs": [],
   "source": [
    "lt_x = sorted(glob.glob('./data/x/*'))\n",
    "lt_y = sorted(glob.glob('./data/y/*'))\n",
    "\n",
    "new_df = pd.DataFrame()\n",
    "\n",
    "for i in tqdm(range(len(lt_x))):\n",
    "    img_id = lt_x[i].rsplit('/',1)[1][:-4]\n",
    "    img_path = f'./data/x/{img_id}.png'\n",
    "    mask_path = f'./data/y/{img_id}.png'\n",
    "    a = pd.DataFrame([[img_id, img_path, mask_path]], columns=['img_id', 'img_path', 'mask_path'])\n",
    "    new_df = pd.concat([new_df, a], ignore_index=True)\n",
    "    \n",
    "new_df.to_csv('./train_256_overlap.csv', index=False)"
   ]
  }
 ],
 "metadata": {
  "kernelspec": {
   "display_name": "QCPR",
   "language": "python",
   "name": "python3"
  },
  "language_info": {
   "codemirror_mode": {
    "name": "ipython",
    "version": 3
   },
   "file_extension": ".py",
   "mimetype": "text/x-python",
   "name": "python",
   "nbconvert_exporter": "python",
   "pygments_lexer": "ipython3",
   "version": "3.8.13"
  },
  "orig_nbformat": 4
 },
 "nbformat": 4,
 "nbformat_minor": 2
}
