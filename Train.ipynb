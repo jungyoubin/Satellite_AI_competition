{
 "cells": [
  {
   "cell_type": "markdown",
   "id": "033dfc4c",
   "metadata": {},
   "source": [
    "# 2023 SW중심대학 공동 AI 경진대회 <본선>\n",
    "### Team: Hallym_MMC\n",
    "### Private Rank: 6th\n",
    "### GPU: RTX 3090 Ti 2대"
   ]
  },
  {
   "attachments": {},
   "cell_type": "markdown",
   "id": "d73d24e3-5c9e-4ade-9e6e-ca6f46a2d914",
   "metadata": {},
   "source": [
    "# 필요 라이브러리 설치 및 import"
   ]
  },
  {
   "cell_type": "code",
   "execution_count": null,
   "id": "c11e6f2e",
   "metadata": {},
   "outputs": [],
   "source": [
    "#!pip install -r requirement.txt"
   ]
  },
  {
   "cell_type": "code",
   "execution_count": 2,
   "id": "52a6c69f",
   "metadata": {},
   "outputs": [],
   "source": [
    "import os\n",
    "os.environ[\"CUDA_DEVICE_ORDER\"]=\"PCI_BUS_ID\"\n",
    "os.environ[\"CUDA_VISIBLE_DEVICES\"]= \"0, 1\" \n",
    "import cv2\n",
    "import pandas as pd\n",
    "import numpy as np\n",
    "import torch.optim as optim\n",
    "import torch\n",
    "import torch.nn as nn\n",
    "import time\n",
    "import albumentations as A\n",
    "import random\n",
    "\n",
    "from glob import glob\n",
    "\n",
    "from torch.utils.data import Dataset, DataLoader\n",
    "from torchvision import transforms\n",
    "from PIL import Image\n",
    "from matplotlib import pyplot as plt\n",
    "from tqdm.auto import tqdm\n",
    "from albumentations.pytorch import ToTensorV2\n",
    "from sklearn.model_selection import train_test_split\n",
    "\n"
   ]
  },
  {
   "attachments": {},
   "cell_type": "markdown",
   "id": "1425a3f1",
   "metadata": {},
   "source": [
    "# Fixing seed"
   ]
  },
  {
   "cell_type": "code",
   "execution_count": 3,
   "id": "a6c8ccf3",
   "metadata": {},
   "outputs": [],
   "source": [
    "\n",
    "def set_seed(seed=7777):\n",
    "    random.seed(seed)\n",
    "    np.random.seed(seed)\n",
    "    torch.manual_seed(seed)\n",
    "    torch.cuda.manual_seed(seed)\n",
    "    torch.cuda.manual_seed_all(seed)\n",
    "\n",
    "    # CuDNN을 사용할 때의 시드 고정\n",
    "    torch.backends.cudnn.deterministic = True\n",
    "    torch.backends.cudnn.benchmark = False\n",
    "\n",
    "    # CuBLAS와 CuDNN 연산 시에도 동일한 결과를 얻을 수 있도록 설정\n",
    "    torch.backends.cudnn.enabled = True\n",
    "    torch.backends.cudnn.benchmark = False\n",
    "    \n",
    "set_seed(7777)\n",
    "device = torch.device('cuda' if torch.cuda.is_available() else 'cpu')"
   ]
  },
  {
   "attachments": {},
   "cell_type": "markdown",
   "id": "20ff3de5-0d0e-497b-ac75-d5179a3f65d3",
   "metadata": {},
   "source": [
    "## RLE Function"
   ]
  },
  {
   "cell_type": "code",
   "execution_count": 4,
   "id": "d0f34326",
   "metadata": {},
   "outputs": [],
   "source": [
    "# RLE 디코딩 함수\n",
    "def rle_decode(mask_rle, shape):\n",
    "    s = mask_rle.split()\n",
    "    starts, lengths = [np.asarray(x, dtype=int) for x in (s[0:][::2], s[1:][::2])]\n",
    "    starts -= 1\n",
    "    ends = starts + lengths\n",
    "    img = np.zeros(shape[0]*shape[1], dtype=np.uint8)\n",
    "    for lo, hi in zip(starts, ends):\n",
    "        img[lo:hi] = 1\n",
    "    return img.reshape(shape)\n",
    "\n",
    "# RLE 인코딩 함수\n",
    "def rle_encode(mask):\n",
    "    pixels = mask.flatten()\n",
    "    pixels = np.concatenate([[0], pixels, [0]])\n",
    "    runs = np.where(pixels[1:] != pixels[:-1])[0] + 1\n",
    "    runs[1::2] -= runs[::2]\n",
    "    return ' '.join(str(x) for x in runs)"
   ]
  },
  {
   "attachments": {},
   "cell_type": "markdown",
   "id": "be76a29e-e9c2-411a-a569-04166f074184",
   "metadata": {},
   "source": [
    "## Custom Dataset"
   ]
  },
  {
   "cell_type": "code",
   "execution_count": 5,
   "id": "9c433aa8",
   "metadata": {},
   "outputs": [],
   "source": [
    "class SegDataset(Dataset):\n",
    "    def __init__(self, csv, transform=None, mode='train', logger=None, verbose=False):\n",
    "        self.logger = logger\n",
    "        self.verbose = verbose\n",
    "        self.mode = mode\n",
    "        self.transform = transform\n",
    "        self.data = []\n",
    "        \n",
    "        if self.mode in ['train', 'valid']:\n",
    "            for _, row in csv.iterrows():\n",
    "                image_path = row['img_path']\n",
    "                mask_path = row['mask_path']\n",
    "                self.data.append((image_path, mask_path))\n",
    "            \n",
    "        elif self.mode in ['test']:\n",
    "            for _, row in csv.iterrows():\n",
    "                image_path = row['img_path']\n",
    "                self.data.append(image_path)\n",
    "\n",
    "    def __len__(self):\n",
    "        return len(self.data)\n",
    "\n",
    "    def __getitem__(self, idx: int):\n",
    "        if self.mode in ['train', 'valid']:\n",
    "            image_path, mask_path = self.data[idx]\n",
    "            image = Image.open(image_path).convert('RGB')\n",
    "            mask = Image.open(mask_path).convert('L')\n",
    "            \n",
    "            if self.transform:\n",
    "                augmented = self.transform(image=np.array(image), mask=np.array(mask))\n",
    "                image = augmented['image']\n",
    "                mask = augmented['mask']\n",
    "            \n",
    "            return image, mask\n",
    "        \n",
    "        elif self.mode in ['test']:\n",
    "            image_path = self.data[idx]\n",
    "            image = Image.open(image_path).convert('RGB')\n",
    "            \n",
    "            if self.transform:\n",
    "                image = self.transform(image=np.array(image))['image']\n",
    "            \n",
    "            mask = rle_encode(image)\n",
    "            return image, mask"
   ]
  },
  {
   "cell_type": "markdown",
   "id": "96ca46f0",
   "metadata": {},
   "source": [
    "# Segmentation 모델 설정\n",
    "U++, DeepLabV3+, FPN 사용 (별도로 코드를 실행하여 pt파일을 각각 제작)"
   ]
  },
  {
   "cell_type": "code",
   "execution_count": 6,
   "id": "f81ac32d",
   "metadata": {},
   "outputs": [],
   "source": [
    "import segmentation_models_pytorch as smp\n",
    "ENCODER = 'resnext101_32x8d'\n",
    "ENCODER_WEIGHTS = 'swsl'\n",
    "# DEVICE = 'cuda'\n",
    "preprocessing_fn = smp.encoders.get_preprocessing_fn(ENCODER, ENCODER_WEIGHTS)\n",
    "num_workers = 4\n",
    "bs = 1\n",
    "\n",
    "ACTIVATION = None\n",
    "model = smp.UnetPlusPlus(\n",
    "    encoder_name=ENCODER, \n",
    "    encoder_weights=ENCODER_WEIGHTS, \n",
    "    classes=1, \n",
    "    activation=ACTIVATION,\n",
    ")\n",
    "\n",
    "# model = smp.DeepLabV3Plus(\n",
    "#     encoder_name=ENCODER, \n",
    "#     encoder_weights=ENCODER_WEIGHTS, \n",
    "#     classes=1, \n",
    "#     activation=ACTIVATION,\n",
    "# )\n",
    "\n",
    "# model = smp.FPN(\n",
    "#     encoder_name=ENCODER, \n",
    "#     encoder_weights=ENCODER_WEIGHTS, \n",
    "#     classes=1, \n",
    "#     activation=ACTIVATION,\n",
    "# )"
   ]
  },
  {
   "attachments": {},
   "cell_type": "markdown",
   "id": "dc955893-22fd-4320-88be-7aa0d790cbd9",
   "metadata": {},
   "source": [
    "# Set transforms"
   ]
  },
  {
   "cell_type": "code",
   "execution_count": 6,
   "id": "ef40a39a",
   "metadata": {},
   "outputs": [],
   "source": [
    "transform_train = A.Compose([\n",
    "        A.RandomCrop(224, 224),\n",
    "        A.RandomRotate90(),\n",
    "        A.HorizontalFlip(),\n",
    "        A.VerticalFlip(),\n",
    "        A.OneOf([\n",
    "            A.ChannelShuffle(p=1),\n",
                 A.RandomBrightnessContrast(brightness_limit=(-0.1, 0.2), p=1),\n",
    "        A.RandomBrightnessContrast(brightness_limit=(-0.1, 0.2), p=1),\n",
    "        ], p=0.5),\n",
    "        A.OneOf([\n",
    "            A.PixelDropout (dropout_prob=0.005, per_channel=False, drop_value=0, mask_drop_value=None, p=1),\n",
    "            A.Downscale(scale_min=0.7, scale_max=0.8, interpolation=2, p=1),\n",
    "            A.GaussNoise(p=1),\n",
    "        ], p=0.4),\n",
    "        \n",
    "    \n",
    "        A.Normalize([0.485 , 0.456, 0.406], [0.229, 0.224 , 0.225]),\n",
    "        ToTensorV2()\n",
    "    ])\n",
    "\n",
    "# transform_valid = A.Compose([\n",
    "#         A.Resize(224, 224),\n",
    "#         A.Normalize([0.485 , 0.456, 0.406], [0.229, 0.224 , 0.225]),\n",
    "#         ToTensorV2()\n",
    "#     ])"
   ]
  },
  {
   "attachments": {},
   "cell_type": "markdown",
   "id": "696b667a",
   "metadata": {},
   "source": [
    "# Load data\n",
    "\n",
    "*Validation 을 수 차례 진행했을 때, 과적합 양상을 보이지 않아 모든 데이터셋을 이용*"
   ]
  },
  {
   "cell_type": "code",
   "execution_count": 7,
   "id": "14e0f8fd",
   "metadata": {},
   "outputs": [],
   "source": [
    "\n",
    "df = pd.read_csv('train_256.csv')\n",
    "\n",
    "train_df = df\n",
    "\n",
    "train_dataset = SegDataset(csv = train_df, transform=transform_train)\n",
    "train_loader = DataLoader(train_dataset, batch_size=64, shuffle=True, num_workers=4)\n",
    "\n",
    "# valid_dataset = SegDataset(csv = valid_df, transform=transform_valid)\n",
    "# valid_loader = DataLoader(valid_dataset, batch_size=144, shuffle=False, num_workers=4)"
   ]
  },
  {
   "attachments": {},
   "cell_type": "markdown",
   "id": "f42501fc-b573-4893-a7c4-5e280dfdaf09",
   "metadata": {},
   "source": [
    "## Define Model"
   ]
  },
  {
   "cell_type": "code",
   "execution_count": 8,
   "id": "50960c44",
   "metadata": {},
   "outputs": [],
   "source": [
    "\n",
    "model = torch.nn.DataParallel(model).to(device)"
   ]
  },
  {
   "attachments": {},
   "cell_type": "markdown",
   "id": "a0895765-fba0-4fd9-b955-a6c0e43012e9",
   "metadata": {},
   "source": [
    "## Model Train"
   ]
  },
  {
   "cell_type": "markdown",
   "id": "ac4138f4",
   "metadata": {},
   "source": [
    "### Loss 정의\n",
    "DICE Loss + BCE Loss"
   ]
  },
  {
   "cell_type": "code",
   "execution_count": 9,
   "id": "27dca989",
   "metadata": {},
   "outputs": [],
   "source": [
    "import torch.nn.functional as F\n",
    "class DiceBCELoss(nn.Module):\n",
    "    def __init__(self, weight=None, size_average=True):\n",
    "        super(DiceBCELoss, self).__init__()\n",
    "\n",
    "    def forward(self, inputs, targets, smooth=1):\n",
    "        inputs = inputs.view(-1)\n",
    "        targets = targets.view(-1)\n",
    "        \n",
    "        intersection = (inputs * targets).sum()                            \n",
    "        dice_loss = 1 - (2.*intersection + smooth)/(inputs.sum() + targets.sum() + smooth)  \n",
    "        BCE = F.binary_cross_entropy(inputs, targets, reduction='mean')\n",
    "        Dice_BCE = BCE + dice_loss\n",
    "        \n",
    "        return Dice_BCE, dice_loss"
   ]
  },
  {
   "cell_type": "markdown",
   "id": "96c93dcd",
   "metadata": {},
   "source": [
    "### Train 함수정의"
   ]
  },
  {
   "cell_type": "code",
   "execution_count": 7,
   "id": "179deaca",
   "metadata": {},
   "outputs": [],
   "source": [
    "def run_epoch(model, loader, optimizer, is_train=False):\n",
    "    losses = []\n",
    "    criterion = DiceBCELoss()\n",
    "    dice_losses = []\n",
    "    \n",
    "    model = model.train() if is_train else model.eval()\n",
    "\n",
    "    with torch.set_grad_enabled(is_train):\n",
    "        bar = tqdm(loader)\n",
    "        for images, masks in bar:\n",
    "            images = images.float().to(device)\n",
    "            masks = masks.float().to(device)\n",
    "\n",
    "            optimizer.zero_grad()\n",
    "            outputs = model(images)\n",
    "            outputs = outputs.sigmoid()\n",
    "            loss, dice_loss = criterion(outputs, masks.unsqueeze(1))\n",
    "        \n",
    "            \n",
    "            if is_train:\n",
    "                loss.backward()\n",
    "                optimizer.step()\n",
    "\n",
    "            #bce_loss = bce_loss.detach().cpu().numpy()\n",
    "            loss = loss.detach().cpu().numpy()\n",
    "            dice_loss = dice_loss.detach().cpu().numpy()\n",
    "            \n",
    "            losses.append(loss.item())\n",
    "            #bce_losses.append(bce_loss)\n",
    "            losses.append(loss)\n",
    "            dice_losses.append(dice_loss)\n",
    "            \n",
    "            #bar.set_description(f'bce_loss: {sum(bce_losses[-100:])/min(100,len(bce_losses)):.5f}, dice_loss: {sum(dice_losses[-100:])/min(100,len(dice_losses)):.5f}')\n",
    "            bar.set_description(f'lr: {optimizer.param_groups[0][\"lr\"]}, diceBCE_loss: {loss:.5f}, diceBCE_loss_smooth: {np.mean(losses):.5f}')\n",
    "    return np.array(losses).mean(), np.array(dice_losses).mean()\n"
   ]
  },
  {
   "cell_type": "code",
   "execution_count": 11,
   "id": "6602fde8",
   "metadata": {},
   "outputs": [
    {
     "name": "stdout",
     "output_type": "stream",
     "text": [
      "Epochs: 0\n"
     ]
    },
    {
     "data": {
      "application/vnd.jupyter.widget-view+json": {
       "model_id": "d876c2e023b044f78e07fb308a1d8f33",
       "version_major": 2,
       "version_minor": 0
      },
      "text/plain": [
       "  0%|          | 0/1005 [00:00<?, ?it/s]"
      ]
     },
     "metadata": {},
     "output_type": "display_data"
    },
    {
     "name": "stdout",
     "output_type": "stream",
     "text": [
      "Model saved! Previous loss: 99999.0000 --> Current losws: 0.6159 | Dice loss: 0.4596\n",
      "Epochs: 1\n"
     ]
    },
    {
     "data": {
      "application/vnd.jupyter.widget-view+json": {
       "model_id": "5801a3235c044956a3b0f97f73121c75",
       "version_major": 2,
       "version_minor": 0
      },
      "text/plain": [
       "  0%|          | 0/1005 [00:00<?, ?it/s]"
      ]
     },
     "metadata": {},
     "output_type": "display_data"
    },
    {
     "name": "stdout",
     "output_type": "stream",
     "text": [
      "Model saved! Previous loss: 99999.0000 --> Current losws: 0.2697 | Dice loss: 0.2019\n",
      "Epochs: 2\n"
     ]
    },
    {
     "data": {
      "application/vnd.jupyter.widget-view+json": {
       "model_id": "0380727af2a14f5286bac70fc106d48e",
       "version_major": 2,
       "version_minor": 0
      },
      "text/plain": [
       "  0%|          | 0/1005 [00:01<?, ?it/s]"
      ]
     },
     "metadata": {},
     "output_type": "display_data"
    },
    {
     "name": "stdout",
     "output_type": "stream",
     "text": [
      "Model saved! Previous loss: 99999.0000 --> Current losws: 0.2380 | Dice loss: 0.1749\n",
      "Epochs: 3\n"
     ]
    },
    {
     "data": {
      "application/vnd.jupyter.widget-view+json": {
       "model_id": "e9137a0561da4c4695d9188d30623efa",
       "version_major": 2,
       "version_minor": 0
      },
      "text/plain": [
       "  0%|          | 0/1005 [00:01<?, ?it/s]"
      ]
     },
     "metadata": {},
     "output_type": "display_data"
    },
    {
     "name": "stdout",
     "output_type": "stream",
     "text": [
      "Model saved! Previous loss: 99999.0000 --> Current losws: 0.2302 | Dice loss: 0.1683\n",
      "Epochs: 4\n"
     ]
    },
    {
     "data": {
      "application/vnd.jupyter.widget-view+json": {
       "model_id": "367e67f7672f4aae84a98ab318ad768d",
       "version_major": 2,
       "version_minor": 0
      },
      "text/plain": [
       "  0%|          | 0/1005 [00:01<?, ?it/s]"
      ]
     },
     "metadata": {},
     "output_type": "display_data"
    },
    {
     "name": "stdout",
     "output_type": "stream",
     "text": [
      "Model saved! Previous loss: 99999.0000 --> Current losws: 0.2244 | Dice loss: 0.1639\n",
      "Epochs: 5\n"
     ]
    },
    {
     "data": {
      "application/vnd.jupyter.widget-view+json": {
       "model_id": "6317a888a92e48e7ad30e96cb65f3e50",
       "version_major": 2,
       "version_minor": 0
      },
      "text/plain": [
       "  0%|          | 0/1005 [00:01<?, ?it/s]"
      ]
     },
     "metadata": {},
     "output_type": "display_data"
    },
    {
     "name": "stdout",
     "output_type": "stream",
     "text": [
      "Model saved! Previous loss: 99999.0000 --> Current losws: 0.2182 | Dice loss: 0.1593\n",
      "Epochs: 6\n"
     ]
    },
    {
     "data": {
      "application/vnd.jupyter.widget-view+json": {
       "model_id": "5b8c27ddfd4744d3b7bb66dd8cd21b84",
       "version_major": 2,
       "version_minor": 0
      },
      "text/plain": [
       "  0%|          | 0/1005 [00:01<?, ?it/s]"
      ]
     },
     "metadata": {},
     "output_type": "display_data"
    },
    {
     "name": "stdout",
     "output_type": "stream",
     "text": [
      "Model saved! Previous loss: 99999.0000 --> Current losws: 0.2109 | Dice loss: 0.1540\n",
      "Epochs: 7\n"
     ]
    },
    {
     "data": {
      "application/vnd.jupyter.widget-view+json": {
       "model_id": "5b6d9cd98efe4c14ba14da6f8519092e",
       "version_major": 2,
       "version_minor": 0
      },
      "text/plain": [
       "  0%|          | 0/1005 [00:01<?, ?it/s]"
      ]
     },
     "metadata": {},
     "output_type": "display_data"
    },
    {
     "name": "stdout",
     "output_type": "stream",
     "text": [
      "Model saved! Previous loss: 99999.0000 --> Current losws: 0.2103 | Dice loss: 0.1534\n",
      "Epochs: 8\n"
     ]
    },
    {
     "data": {
      "application/vnd.jupyter.widget-view+json": {
       "model_id": "96d230b4c08d4bcc8a39074a6e00758c",
       "version_major": 2,
       "version_minor": 0
      },
      "text/plain": [
       "  0%|          | 0/1005 [00:00<?, ?it/s]"
      ]
     },
     "metadata": {},
     "output_type": "display_data"
    },
    {
     "name": "stdout",
     "output_type": "stream",
     "text": [
      "Model saved! Previous loss: 99999.0000 --> Current losws: 0.2086 | Dice loss: 0.1522\n",
      "Epochs: 9\n"
     ]
    },
    {
     "data": {
      "application/vnd.jupyter.widget-view+json": {
       "model_id": "5b115297dd584f61a56aa34c278b0551",
       "version_major": 2,
       "version_minor": 0
      },
      "text/plain": [
       "  0%|          | 0/1005 [00:00<?, ?it/s]"
      ]
     },
     "metadata": {},
     "output_type": "display_data"
    },
    {
     "name": "stdout",
     "output_type": "stream",
     "text": [
      "Model saved! Previous loss: 99999.0000 --> Current losws: 0.2054 | Dice loss: 0.1498\n",
      "Epochs: 10\n"
     ]
    },
    {
     "data": {
      "application/vnd.jupyter.widget-view+json": {
       "model_id": "b6b30eaccdbe450ba2a1ff841608efa4",
       "version_major": 2,
       "version_minor": 0
      },
      "text/plain": [
       "  0%|          | 0/1005 [00:01<?, ?it/s]"
      ]
     },
     "metadata": {},
     "output_type": "display_data"
    },
    {
     "name": "stdout",
     "output_type": "stream",
     "text": [
      "Model saved! Previous loss: 99999.0000 --> Current losws: 0.2029 | Dice loss: 0.1481\n",
      "Epochs: 11\n"
     ]
    },
    {
     "data": {
      "application/vnd.jupyter.widget-view+json": {
       "model_id": "583304794d7c4043a9b73002f3e501ae",
       "version_major": 2,
       "version_minor": 0
      },
      "text/plain": [
       "  0%|          | 0/1005 [00:00<?, ?it/s]"
      ]
     },
     "metadata": {},
     "output_type": "display_data"
    },
    {
     "name": "stdout",
     "output_type": "stream",
     "text": [
      "Model saved! Previous loss: 99999.0000 --> Current losws: 0.2015 | Dice loss: 0.1471\n",
      "Epochs: 12\n"
     ]
    },
    {
     "data": {
      "application/vnd.jupyter.widget-view+json": {
       "model_id": "291fa1646ab543cea0877be39f7e3e59",
       "version_major": 2,
       "version_minor": 0
      },
      "text/plain": [
       "  0%|          | 0/1005 [00:01<?, ?it/s]"
      ]
     },
     "metadata": {},
     "output_type": "display_data"
    },
    {
     "name": "stdout",
     "output_type": "stream",
     "text": [
      "Model saved! Previous loss: 99999.0000 --> Current losws: 0.1987 | Dice loss: 0.1450\n",
      "Epochs: 13\n"
     ]
    },
    {
     "data": {
      "application/vnd.jupyter.widget-view+json": {
       "model_id": "cb7ed78e030249078f79d10d84dad7c7",
       "version_major": 2,
       "version_minor": 0
      },
      "text/plain": [
       "  0%|          | 0/1005 [00:00<?, ?it/s]"
      ]
     },
     "metadata": {},
     "output_type": "display_data"
    },
    {
     "name": "stdout",
     "output_type": "stream",
     "text": [
      "Model saved! Previous loss: 99999.0000 --> Current losws: 0.1984 | Dice loss: 0.1446\n",
      "Epochs: 14\n"
     ]
    },
    {
     "data": {
      "application/vnd.jupyter.widget-view+json": {
       "model_id": "b525394f6a20483283f60ad04fc2fc52",
       "version_major": 2,
       "version_minor": 0
      },
      "text/plain": [
       "  0%|          | 0/1005 [00:01<?, ?it/s]"
      ]
     },
     "metadata": {},
     "output_type": "display_data"
    },
    {
     "name": "stdout",
     "output_type": "stream",
     "text": [
      "Model saved! Previous loss: 99999.0000 --> Current losws: 0.1965 | Dice loss: 0.1435\n",
      "Epochs: 15\n"
     ]
    },
    {
     "data": {
      "application/vnd.jupyter.widget-view+json": {
       "model_id": "a19682a265604e9bb8efb91a1bdeeee4",
       "version_major": 2,
       "version_minor": 0
      },
      "text/plain": [
       "  0%|          | 0/1005 [00:01<?, ?it/s]"
      ]
     },
     "metadata": {},
     "output_type": "display_data"
    },
    {
     "name": "stdout",
     "output_type": "stream",
     "text": [
      "Model saved! Previous loss: 99999.0000 --> Current losws: 0.1934 | Dice loss: 0.1412\n",
      "Epochs: 16\n"
     ]
    },
    {
     "data": {
      "application/vnd.jupyter.widget-view+json": {
       "model_id": "5e5e17ab2daf40eea67fbb1690840e55",
       "version_major": 2,
       "version_minor": 0
      },
      "text/plain": [
       "  0%|          | 0/1005 [00:01<?, ?it/s]"
      ]
     },
     "metadata": {},
     "output_type": "display_data"
    },
    {
     "name": "stdout",
     "output_type": "stream",
     "text": [
      "Model saved! Previous loss: 99999.0000 --> Current losws: 0.1922 | Dice loss: 0.1405\n",
      "Epochs: 17\n"
     ]
    },
    {
     "data": {
      "application/vnd.jupyter.widget-view+json": {
       "model_id": "0d56ad72b7154799b95de9b3bcf2cd8c",
       "version_major": 2,
       "version_minor": 0
      },
      "text/plain": [
       "  0%|          | 0/1005 [00:01<?, ?it/s]"
      ]
     },
     "metadata": {},
     "output_type": "display_data"
    },
    {
     "name": "stdout",
     "output_type": "stream",
     "text": [
      "Model saved! Previous loss: 99999.0000 --> Current losws: 0.1911 | Dice loss: 0.1396\n",
      "Epochs: 18\n"
     ]
    },
    {
     "data": {
      "application/vnd.jupyter.widget-view+json": {
       "model_id": "81a439823ec74a0ca50ef7acb3d9cf17",
       "version_major": 2,
       "version_minor": 0
      },
      "text/plain": [
       "  0%|          | 0/1005 [00:00<?, ?it/s]"
      ]
     },
     "metadata": {},
     "output_type": "display_data"
    },
    {
     "name": "stdout",
     "output_type": "stream",
     "text": [
      "Model saved! Previous loss: 99999.0000 --> Current losws: 0.1896 | Dice loss: 0.1386\n",
      "Epochs: 19\n"
     ]
    },
    {
     "data": {
      "application/vnd.jupyter.widget-view+json": {
       "model_id": "edf2cb9835324b52b312120429a5d219",
       "version_major": 2,
       "version_minor": 0
      },
      "text/plain": [
       "  0%|          | 0/1005 [00:00<?, ?it/s]"
      ]
     },
     "metadata": {},
     "output_type": "display_data"
    },
    {
     "name": "stdout",
     "output_type": "stream",
     "text": [
      "Model saved! Previous loss: 99999.0000 --> Current losws: 0.1874 | Dice loss: 0.1370\n",
      "Epochs: 20\n"
     ]
    },
    {
     "data": {
      "application/vnd.jupyter.widget-view+json": {
       "model_id": "524315a9a4734ca4a522ccf9875a494e",
       "version_major": 2,
       "version_minor": 0
      },
      "text/plain": [
       "  0%|          | 0/1005 [00:00<?, ?it/s]"
      ]
     },
     "metadata": {},
     "output_type": "display_data"
    },
    {
     "name": "stdout",
     "output_type": "stream",
     "text": [
      "Model saved! Previous loss: 99999.0000 --> Current losws: 0.1892 | Dice loss: 0.1384\n",
      "Epochs: 21\n"
     ]
    },
    {
     "data": {
      "application/vnd.jupyter.widget-view+json": {
       "model_id": "c99de97d913c43e7923882d7d9b80f71",
       "version_major": 2,
       "version_minor": 0
      },
      "text/plain": [
       "  0%|          | 0/1005 [00:00<?, ?it/s]"
      ]
     },
     "metadata": {},
     "output_type": "display_data"
    },
    {
     "name": "stdout",
     "output_type": "stream",
     "text": [
      "Model saved! Previous loss: 99999.0000 --> Current losws: 0.1842 | Dice loss: 0.1346\n",
      "Epochs: 22\n"
     ]
    },
    {
     "data": {
      "application/vnd.jupyter.widget-view+json": {
       "model_id": "cf4eaf08684c4e97b1b049f037786a80",
       "version_major": 2,
       "version_minor": 0
      },
      "text/plain": [
       "  0%|          | 0/1005 [00:00<?, ?it/s]"
      ]
     },
     "metadata": {},
     "output_type": "display_data"
    },
    {
     "name": "stdout",
     "output_type": "stream",
     "text": [
      "Model saved! Previous loss: 99999.0000 --> Current losws: 0.1861 | Dice loss: 0.1363\n",
      "Epochs: 23\n"
     ]
    },
    {
     "data": {
      "application/vnd.jupyter.widget-view+json": {
       "model_id": "0ba9bf8bc140488c8a53141509db755a",
       "version_major": 2,
       "version_minor": 0
      },
      "text/plain": [
       "  0%|          | 0/1005 [00:00<?, ?it/s]"
      ]
     },
     "metadata": {},
     "output_type": "display_data"
    },
    {
     "name": "stdout",
     "output_type": "stream",
     "text": [
      "Model saved! Previous loss: 99999.0000 --> Current losws: 0.1837 | Dice loss: 0.1342\n",
      "Epochs: 24\n"
     ]
    },
    {
     "data": {
      "application/vnd.jupyter.widget-view+json": {
       "model_id": "ded464b80a534a7aba4de6efdba478e9",
       "version_major": 2,
       "version_minor": 0
      },
      "text/plain": [
       "  0%|          | 0/1005 [00:00<?, ?it/s]"
      ]
     },
     "metadata": {},
     "output_type": "display_data"
    },
    {
     "name": "stdout",
     "output_type": "stream",
     "text": [
      "Model saved! Previous loss: 99999.0000 --> Current losws: 0.1823 | Dice loss: 0.1335\n",
      "Epochs: 25\n"
     ]
    },
    {
     "data": {
      "application/vnd.jupyter.widget-view+json": {
       "model_id": "20acdaf051574c6694afe3956221645f",
       "version_major": 2,
       "version_minor": 0
      },
      "text/plain": [
       "  0%|          | 0/1005 [00:00<?, ?it/s]"
      ]
     },
     "metadata": {},
     "output_type": "display_data"
    },
    {
     "name": "stdout",
     "output_type": "stream",
     "text": [
      "Model saved! Previous loss: 99999.0000 --> Current losws: 0.1811 | Dice loss: 0.1324\n",
      "Epochs: 26\n"
     ]
    },
    {
     "data": {
      "application/vnd.jupyter.widget-view+json": {
       "model_id": "4dfe773cce5341f9b9b20b035a6abc1a",
       "version_major": 2,
       "version_minor": 0
      },
      "text/plain": [
       "  0%|          | 0/1005 [00:00<?, ?it/s]"
      ]
     },
     "metadata": {},
     "output_type": "display_data"
    },
    {
     "name": "stdout",
     "output_type": "stream",
     "text": [
      "Model saved! Previous loss: 99999.0000 --> Current losws: 0.1800 | Dice loss: 0.1316\n",
      "Epochs: 27\n"
     ]
    },
    {
     "data": {
      "application/vnd.jupyter.widget-view+json": {
       "model_id": "0270b9bf6cd54241ad375c02843fa991",
       "version_major": 2,
       "version_minor": 0
      },
      "text/plain": [
       "  0%|          | 0/1005 [00:00<?, ?it/s]"
      ]
     },
     "metadata": {},
     "output_type": "display_data"
    },
    {
     "name": "stdout",
     "output_type": "stream",
     "text": [
      "Model saved! Previous loss: 99999.0000 --> Current losws: 0.1805 | Dice loss: 0.1321\n",
      "Epochs: 28\n"
     ]
    },
    {
     "data": {
      "application/vnd.jupyter.widget-view+json": {
       "model_id": "a77d034005d04b89875707087152770f",
       "version_major": 2,
       "version_minor": 0
      },
      "text/plain": [
       "  0%|          | 0/1005 [00:00<?, ?it/s]"
      ]
     },
     "metadata": {},
     "output_type": "display_data"
    },
    {
     "name": "stdout",
     "output_type": "stream",
     "text": [
      "Model saved! Previous loss: 99999.0000 --> Current losws: 0.1787 | Dice loss: 0.1307\n",
      "Epochs: 29\n"
     ]
    },
    {
     "data": {
      "application/vnd.jupyter.widget-view+json": {
       "model_id": "4d54057b2b934384aff24c1474222180",
       "version_major": 2,
       "version_minor": 0
      },
      "text/plain": [
       "  0%|          | 0/1005 [00:00<?, ?it/s]"
      ]
     },
     "metadata": {},
     "output_type": "display_data"
    },
    {
     "name": "stdout",
     "output_type": "stream",
     "text": [
      "Model saved! Previous loss: 99999.0000 --> Current losws: 0.1783 | Dice loss: 0.1306\n",
      "Epochs: 30\n"
     ]
    },
    {
     "data": {
      "application/vnd.jupyter.widget-view+json": {
       "model_id": "da89e2257a324c01a95e6803e09a9671",
       "version_major": 2,
       "version_minor": 0
      },
      "text/plain": [
       "  0%|          | 0/1005 [00:00<?, ?it/s]"
      ]
     },
     "metadata": {},
     "output_type": "display_data"
    },
    {
     "name": "stdout",
     "output_type": "stream",
     "text": [
      "Model saved! Previous loss: 99999.0000 --> Current losws: 0.1789 | Dice loss: 0.1309\n",
      "Epochs: 31\n"
     ]
    },
    {
     "data": {
      "application/vnd.jupyter.widget-view+json": {
       "model_id": "c0598e1e0054471d9f5580decdea9fed",
       "version_major": 2,
       "version_minor": 0
      },
      "text/plain": [
       "  0%|          | 0/1005 [00:00<?, ?it/s]"
      ]
     },
     "metadata": {},
     "output_type": "display_data"
    },
    {
     "name": "stdout",
     "output_type": "stream",
     "text": [
      "Model saved! Previous loss: 99999.0000 --> Current losws: 0.1732 | Dice loss: 0.1269\n",
      "Epochs: 32\n"
     ]
    },
    {
     "data": {
      "application/vnd.jupyter.widget-view+json": {
       "model_id": "183ea9d5850b43a094b7753138c93879",
       "version_major": 2,
       "version_minor": 0
      },
      "text/plain": [
       "  0%|          | 0/1005 [00:00<?, ?it/s]"
      ]
     },
     "metadata": {},
     "output_type": "display_data"
    },
    {
     "name": "stdout",
     "output_type": "stream",
     "text": [
      "Model saved! Previous loss: 99999.0000 --> Current losws: 0.1747 | Dice loss: 0.1279\n",
      "Epochs: 33\n"
     ]
    },
    {
     "data": {
      "application/vnd.jupyter.widget-view+json": {
       "model_id": "02c5a8a0c03e455e931691ca2333303f",
       "version_major": 2,
       "version_minor": 0
      },
      "text/plain": [
       "  0%|          | 0/1005 [00:00<?, ?it/s]"
      ]
     },
     "metadata": {},
     "output_type": "display_data"
    },
    {
     "name": "stdout",
     "output_type": "stream",
     "text": [
      "Model saved! Previous loss: 99999.0000 --> Current losws: 0.1758 | Dice loss: 0.1287\n",
      "Epochs: 34\n"
     ]
    },
    {
     "data": {
      "application/vnd.jupyter.widget-view+json": {
       "model_id": "05cd6832685a4bc0b45bb1361d533b0e",
       "version_major": 2,
       "version_minor": 0
      },
      "text/plain": [
       "  0%|          | 0/1005 [00:00<?, ?it/s]"
      ]
     },
     "metadata": {},
     "output_type": "display_data"
    },
    {
     "name": "stdout",
     "output_type": "stream",
     "text": [
      "Model saved! Previous loss: 99999.0000 --> Current losws: 0.1735 | Dice loss: 0.1270\n",
      "Epochs: 35\n"
     ]
    },
    {
     "data": {
      "application/vnd.jupyter.widget-view+json": {
       "model_id": "c1ba75efa9564f14b8b36ca37fa1eafe",
       "version_major": 2,
       "version_minor": 0
      },
      "text/plain": [
       "  0%|          | 0/1005 [00:00<?, ?it/s]"
      ]
     },
     "metadata": {},
     "output_type": "display_data"
    },
    {
     "name": "stdout",
     "output_type": "stream",
     "text": [
      "Model saved! Previous loss: 99999.0000 --> Current losws: 0.1740 | Dice loss: 0.1274\n",
      "Epochs: 36\n"
     ]
    },
    {
     "data": {
      "application/vnd.jupyter.widget-view+json": {
       "model_id": "5f3ce4a4486947c8980f9a344e1e5b1b",
       "version_major": 2,
       "version_minor": 0
      },
      "text/plain": [
       "  0%|          | 0/1005 [00:00<?, ?it/s]"
      ]
     },
     "metadata": {},
     "output_type": "display_data"
    },
    {
     "name": "stdout",
     "output_type": "stream",
     "text": [
      "Model saved! Previous loss: 99999.0000 --> Current losws: 0.1707 | Dice loss: 0.1250\n",
      "Epochs: 37\n"
     ]
    },
    {
     "data": {
      "application/vnd.jupyter.widget-view+json": {
       "model_id": "ae09a23076d04d0ebbd5df164deb3f72",
       "version_major": 2,
       "version_minor": 0
      },
      "text/plain": [
       "  0%|          | 0/1005 [00:00<?, ?it/s]"
      ]
     },
     "metadata": {},
     "output_type": "display_data"
    },
    {
     "name": "stdout",
     "output_type": "stream",
     "text": [
      "Model saved! Previous loss: 99999.0000 --> Current losws: 0.1732 | Dice loss: 0.1259\n",
      "Epochs: 38\n"
     ]
    },
    {
     "data": {
      "application/vnd.jupyter.widget-view+json": {
       "model_id": "136d8bf3bef84a3eac90641dcb7d4625",
       "version_major": 2,
       "version_minor": 0
      },
      "text/plain": [
       "  0%|          | 0/1005 [00:00<?, ?it/s]"
      ]
     },
     "metadata": {},
     "output_type": "display_data"
    },
    {
     "name": "stdout",
     "output_type": "stream",
     "text": [
      "Model saved! Previous loss: 99999.0000 --> Current losws: 0.1726 | Dice loss: 0.1263\n",
      "Epochs: 39\n"
     ]
    },
    {
     "data": {
      "application/vnd.jupyter.widget-view+json": {
       "model_id": "ffb69720db374e0ca70025ce75dbf060",
       "version_major": 2,
       "version_minor": 0
      },
      "text/plain": [
       "  0%|          | 0/1005 [00:00<?, ?it/s]"
      ]
     },
     "metadata": {},
     "output_type": "display_data"
    },
    {
     "name": "stdout",
     "output_type": "stream",
     "text": [
      "Model saved! Previous loss: 99999.0000 --> Current losws: 0.1718 | Dice loss: 0.1260\n",
      "Epochs: 40\n"
     ]
    },
    {
     "data": {
      "application/vnd.jupyter.widget-view+json": {
       "model_id": "3c077bf983124eaa841cb03610e99569",
       "version_major": 2,
       "version_minor": 0
      },
      "text/plain": [
       "  0%|          | 0/1005 [00:00<?, ?it/s]"
      ]
     },
     "metadata": {},
     "output_type": "display_data"
    },
    {
     "name": "stdout",
     "output_type": "stream",
     "text": [
      "Model saved! Previous loss: 99999.0000 --> Current losws: 0.1685 | Dice loss: 0.1235\n",
      "Epochs: 41\n"
     ]
    },
    {
     "data": {
      "application/vnd.jupyter.widget-view+json": {
       "model_id": "85cc8cd84b054dad8b6d5a6796b6e6a4",
       "version_major": 2,
       "version_minor": 0
      },
      "text/plain": [
       "  0%|          | 0/1005 [00:00<?, ?it/s]"
      ]
     },
     "metadata": {},
     "output_type": "display_data"
    },
    {
     "name": "stdout",
     "output_type": "stream",
     "text": [
      "Model saved! Previous loss: 99999.0000 --> Current losws: 0.1674 | Dice loss: 0.1227\n",
      "Epochs: 42\n"
     ]
    },
    {
     "data": {
      "application/vnd.jupyter.widget-view+json": {
       "model_id": "289d28516bc14712b49d92b6c800f6c0",
       "version_major": 2,
       "version_minor": 0
      },
      "text/plain": [
       "  0%|          | 0/1005 [00:00<?, ?it/s]"
      ]
     },
     "metadata": {},
     "output_type": "display_data"
    },
    {
     "name": "stdout",
     "output_type": "stream",
     "text": [
      "Model saved! Previous loss: 99999.0000 --> Current losws: 0.1677 | Dice loss: 0.1229\n",
      "Epochs: 43\n"
     ]
    },
    {
     "data": {
      "application/vnd.jupyter.widget-view+json": {
       "model_id": "0cec0ee1c9f541f194df7a469367f94e",
       "version_major": 2,
       "version_minor": 0
      },
      "text/plain": [
       "  0%|          | 0/1005 [00:00<?, ?it/s]"
      ]
     },
     "metadata": {},
     "output_type": "display_data"
    },
    {
     "name": "stdout",
     "output_type": "stream",
     "text": [
      "Model saved! Previous loss: 99999.0000 --> Current losws: 0.1666 | Dice loss: 0.1221\n",
      "Epochs: 44\n"
     ]
    },
    {
     "data": {
      "application/vnd.jupyter.widget-view+json": {
       "model_id": "87791293704e4384b0af8e9977105560",
       "version_major": 2,
       "version_minor": 0
      },
      "text/plain": [
       "  0%|          | 0/1005 [00:00<?, ?it/s]"
      ]
     },
     "metadata": {},
     "output_type": "display_data"
    },
    {
     "name": "stdout",
     "output_type": "stream",
     "text": [
      "Model saved! Previous loss: 99999.0000 --> Current losws: 0.1662 | Dice loss: 0.1218\n",
      "Epochs: 45\n"
     ]
    },
    {
     "data": {
      "application/vnd.jupyter.widget-view+json": {
       "model_id": "552bdebebc864e37bd0b146594765e7f",
       "version_major": 2,
       "version_minor": 0
      },
      "text/plain": [
       "  0%|          | 0/1005 [00:00<?, ?it/s]"
      ]
     },
     "metadata": {},
     "output_type": "display_data"
    },
    {
     "name": "stdout",
     "output_type": "stream",
     "text": [
      "Model saved! Previous loss: 99999.0000 --> Current losws: 0.1656 | Dice loss: 0.1214\n",
      "Epochs: 46\n"
     ]
    },
    {
     "data": {
      "application/vnd.jupyter.widget-view+json": {
       "model_id": "02f28bc1a523489c9ba0db0d4f42c6b5",
       "version_major": 2,
       "version_minor": 0
      },
      "text/plain": [
       "  0%|          | 0/1005 [00:00<?, ?it/s]"
      ]
     },
     "metadata": {},
     "output_type": "display_data"
    },
    {
     "name": "stdout",
     "output_type": "stream",
     "text": [
      "Model saved! Previous loss: 99999.0000 --> Current losws: 0.1658 | Dice loss: 0.1217\n",
      "Epochs: 47\n"
     ]
    },
    {
     "data": {
      "application/vnd.jupyter.widget-view+json": {
       "model_id": "50bdf38a893043058d40ad72c65a8e11",
       "version_major": 2,
       "version_minor": 0
      },
      "text/plain": [
       "  0%|          | 0/1005 [00:00<?, ?it/s]"
      ]
     },
     "metadata": {},
     "output_type": "display_data"
    },
    {
     "name": "stdout",
     "output_type": "stream",
     "text": [
      "Model saved! Previous loss: 99999.0000 --> Current losws: 0.1630 | Dice loss: 0.1194\n",
      "Epochs: 48\n"
     ]
    },
    {
     "data": {
      "application/vnd.jupyter.widget-view+json": {
       "model_id": "1cdf6a5f24564788803121872d233a81",
       "version_major": 2,
       "version_minor": 0
      },
      "text/plain": [
       "  0%|          | 0/1005 [00:01<?, ?it/s]"
      ]
     },
     "metadata": {},
     "output_type": "display_data"
    },
    {
     "name": "stdout",
     "output_type": "stream",
     "text": [
      "Model saved! Previous loss: 99999.0000 --> Current losws: 0.1620 | Dice loss: 0.1187\n",
      "Epochs: 49\n"
     ]
    },
    {
     "data": {
      "application/vnd.jupyter.widget-view+json": {
       "model_id": "f7be9d3f98614436b035fc4de48a2b1b",
       "version_major": 2,
       "version_minor": 0
      },
      "text/plain": [
       "  0%|          | 0/1005 [00:01<?, ?it/s]"
      ]
     },
     "metadata": {},
     "output_type": "display_data"
    },
    {
     "name": "stdout",
     "output_type": "stream",
     "text": [
      "Model saved! Previous loss: 99999.0000 --> Current losws: 0.1619 | Dice loss: 0.1188\n",
      "Epochs: 50\n"
     ]
    },
    {
     "data": {
      "application/vnd.jupyter.widget-view+json": {
       "model_id": "79433dc7b9b042e4aa9f77f8f7a7f107",
       "version_major": 2,
       "version_minor": 0
      },
      "text/plain": [
       "  0%|          | 0/1005 [00:01<?, ?it/s]"
      ]
     },
     "metadata": {},
     "output_type": "display_data"
    },
    {
     "name": "stdout",
     "output_type": "stream",
     "text": [
      "Model saved! Previous loss: 99999.0000 --> Current losws: 0.1622 | Dice loss: 0.1190\n",
      "Epochs: 51\n"
     ]
    },
    {
     "data": {
      "application/vnd.jupyter.widget-view+json": {
       "model_id": "81b89120972141df975f22069dfc22ae",
       "version_major": 2,
       "version_minor": 0
      },
      "text/plain": [
       "  0%|          | 0/1005 [00:01<?, ?it/s]"
      ]
     },
     "metadata": {},
     "output_type": "display_data"
    },
    {
     "name": "stdout",
     "output_type": "stream",
     "text": [
      "Model saved! Previous loss: 99999.0000 --> Current losws: 0.1603 | Dice loss: 0.1176\n",
      "Epochs: 52\n"
     ]
    },
    {
     "data": {
      "application/vnd.jupyter.widget-view+json": {
       "model_id": "905a834944cf45b6a5998c061805e6d8",
       "version_major": 2,
       "version_minor": 0
      },
      "text/plain": [
       "  0%|          | 0/1005 [00:01<?, ?it/s]"
      ]
     },
     "metadata": {},
     "output_type": "display_data"
    },
    {
     "name": "stdout",
     "output_type": "stream",
     "text": [
      "Model saved! Previous loss: 99999.0000 --> Current losws: 0.1621 | Dice loss: 0.1188\n",
      "Epochs: 53\n"
     ]
    },
    {
     "data": {
      "application/vnd.jupyter.widget-view+json": {
       "model_id": "914a377900464d4f8df4538bd95f5ca3",
       "version_major": 2,
       "version_minor": 0
      },
      "text/plain": [
       "  0%|          | 0/1005 [00:00<?, ?it/s]"
      ]
     },
     "metadata": {},
     "output_type": "display_data"
    },
    {
     "name": "stdout",
     "output_type": "stream",
     "text": [
      "Model saved! Previous loss: 99999.0000 --> Current losws: 0.1588 | Dice loss: 0.1163\n",
      "Epochs: 54\n"
     ]
    },
    {
     "data": {
      "application/vnd.jupyter.widget-view+json": {
       "model_id": "c54a4d105ba44e64928af10e8a225f4b",
       "version_major": 2,
       "version_minor": 0
      },
      "text/plain": [
       "  0%|          | 0/1005 [00:01<?, ?it/s]"
      ]
     },
     "metadata": {},
     "output_type": "display_data"
    },
    {
     "name": "stdout",
     "output_type": "stream",
     "text": [
      "Model saved! Previous loss: 99999.0000 --> Current losws: 0.1593 | Dice loss: 0.1169\n",
      "Epochs: 55\n"
     ]
    },
    {
     "data": {
      "application/vnd.jupyter.widget-view+json": {
       "model_id": "92ad6228dc944666a282ba7af437fce7",
       "version_major": 2,
       "version_minor": 0
      },
      "text/plain": [
       "  0%|          | 0/1005 [00:00<?, ?it/s]"
      ]
     },
     "metadata": {},
     "output_type": "display_data"
    },
    {
     "name": "stdout",
     "output_type": "stream",
     "text": [
      "Model saved! Previous loss: 99999.0000 --> Current losws: 0.1591 | Dice loss: 0.1168\n",
      "Epochs: 56\n"
     ]
    },
    {
     "data": {
      "application/vnd.jupyter.widget-view+json": {
       "model_id": "c1c586b52fd14df38f187e1d2a50581b",
       "version_major": 2,
       "version_minor": 0
      },
      "text/plain": [
       "  0%|          | 0/1005 [00:01<?, ?it/s]"
      ]
     },
     "metadata": {},
     "output_type": "display_data"
    },
    {
     "name": "stdout",
     "output_type": "stream",
     "text": [
      "Model saved! Previous loss: 99999.0000 --> Current losws: 0.1582 | Dice loss: 0.1161\n",
      "Epochs: 57\n"
     ]
    },
    {
     "data": {
      "application/vnd.jupyter.widget-view+json": {
       "model_id": "286d0136f4ca45f499bcfc699f70c31d",
       "version_major": 2,
       "version_minor": 0
      },
      "text/plain": [
       "  0%|          | 0/1005 [00:01<?, ?it/s]"
      ]
     },
     "metadata": {},
     "output_type": "display_data"
    },
    {
     "name": "stdout",
     "output_type": "stream",
     "text": [
      "Model saved! Previous loss: 99999.0000 --> Current losws: 0.1572 | Dice loss: 0.1155\n",
      "Epochs: 58\n"
     ]
    },
    {
     "data": {
      "application/vnd.jupyter.widget-view+json": {
       "model_id": "4cccfb414c144a378581ae93513a02b0",
       "version_major": 2,
       "version_minor": 0
      },
      "text/plain": [
       "  0%|          | 0/1005 [00:01<?, ?it/s]"
      ]
     },
     "metadata": {},
     "output_type": "display_data"
    },
    {
     "name": "stdout",
     "output_type": "stream",
     "text": [
      "Model saved! Previous loss: 99999.0000 --> Current losws: 0.1564 | Dice loss: 0.1147\n",
      "Epochs: 59\n"
     ]
    },
    {
     "data": {
      "application/vnd.jupyter.widget-view+json": {
       "model_id": "97cc9539f92444e3ba4b0b98cd0b7e21",
       "version_major": 2,
       "version_minor": 0
      },
      "text/plain": [
       "  0%|          | 0/1005 [00:01<?, ?it/s]"
      ]
     },
     "metadata": {},
     "output_type": "display_data"
    },
    {
     "name": "stdout",
     "output_type": "stream",
     "text": [
      "Model saved! Previous loss: 99999.0000 --> Current losws: 0.1565 | Dice loss: 0.1149\n",
      "Epochs: 60\n"
     ]
    },
    {
     "data": {
      "application/vnd.jupyter.widget-view+json": {
       "model_id": "bb1c7b45dcb343ac98701278d542a215",
       "version_major": 2,
       "version_minor": 0
      },
      "text/plain": [
       "  0%|          | 0/1005 [00:01<?, ?it/s]"
      ]
     },
     "metadata": {},
     "output_type": "display_data"
    },
    {
     "name": "stdout",
     "output_type": "stream",
     "text": [
      "Model saved! Previous loss: 99999.0000 --> Current losws: 0.1550 | Dice loss: 0.1139\n",
      "Epochs: 61\n"
     ]
    },
    {
     "data": {
      "application/vnd.jupyter.widget-view+json": {
       "model_id": "49f5609af1d0400ea027da89ab2189d6",
       "version_major": 2,
       "version_minor": 0
      },
      "text/plain": [
       "  0%|          | 0/1005 [00:01<?, ?it/s]"
      ]
     },
     "metadata": {},
     "output_type": "display_data"
    },
    {
     "name": "stdout",
     "output_type": "stream",
     "text": [
      "Model saved! Previous loss: 99999.0000 --> Current losws: 0.1549 | Dice loss: 0.1137\n",
      "Epochs: 62\n"
     ]
    },
    {
     "data": {
      "application/vnd.jupyter.widget-view+json": {
       "model_id": "60058f96403f464680253b1dc8e06206",
       "version_major": 2,
       "version_minor": 0
      },
      "text/plain": [
       "  0%|          | 0/1005 [00:01<?, ?it/s]"
      ]
     },
     "metadata": {},
     "output_type": "display_data"
    },
    {
     "name": "stdout",
     "output_type": "stream",
     "text": [
      "Model saved! Previous loss: 99999.0000 --> Current losws: 0.1549 | Dice loss: 0.1137\n",
      "Epochs: 63\n"
     ]
    },
    {
     "data": {
      "application/vnd.jupyter.widget-view+json": {
       "model_id": "89e6aa523eda43deb35583cf61e296e3",
       "version_major": 2,
       "version_minor": 0
      },
      "text/plain": [
       "  0%|          | 0/1005 [00:01<?, ?it/s]"
      ]
     },
     "metadata": {},
     "output_type": "display_data"
    },
    {
     "name": "stdout",
     "output_type": "stream",
     "text": [
      "Model saved! Previous loss: 99999.0000 --> Current losws: 0.1540 | Dice loss: 0.1131\n",
      "Epochs: 64\n"
     ]
    },
    {
     "data": {
      "application/vnd.jupyter.widget-view+json": {
       "model_id": "755d967d37ca4be59b3064242d5bda8c",
       "version_major": 2,
       "version_minor": 0
      },
      "text/plain": [
       "  0%|          | 0/1005 [00:01<?, ?it/s]"
      ]
     },
     "metadata": {},
     "output_type": "display_data"
    },
    {
     "name": "stdout",
     "output_type": "stream",
     "text": [
      "Model saved! Previous loss: 99999.0000 --> Current losws: 0.1533 | Dice loss: 0.1124\n",
      "Epochs: 65\n"
     ]
    },
    {
     "data": {
      "application/vnd.jupyter.widget-view+json": {
       "model_id": "90ef4467d574404f9b95ec53f8ad085c",
       "version_major": 2,
       "version_minor": 0
      },
      "text/plain": [
       "  0%|          | 0/1005 [00:01<?, ?it/s]"
      ]
     },
     "metadata": {},
     "output_type": "display_data"
    },
    {
     "name": "stdout",
     "output_type": "stream",
     "text": [
      "Model saved! Previous loss: 99999.0000 --> Current losws: 0.1524 | Dice loss: 0.1119\n",
      "Epochs: 66\n"
     ]
    },
    {
     "data": {
      "application/vnd.jupyter.widget-view+json": {
       "model_id": "7236438304d5470c909ab5ed6948dff6",
       "version_major": 2,
       "version_minor": 0
      },
      "text/plain": [
       "  0%|          | 0/1005 [00:01<?, ?it/s]"
      ]
     },
     "metadata": {},
     "output_type": "display_data"
    },
    {
     "name": "stdout",
     "output_type": "stream",
     "text": [
      "Model saved! Previous loss: 99999.0000 --> Current losws: 0.1520 | Dice loss: 0.1116\n",
      "Epochs: 67\n"
     ]
    },
    {
     "data": {
      "application/vnd.jupyter.widget-view+json": {
       "model_id": "3d75fde13fce488b990e4d47818d0451",
       "version_major": 2,
       "version_minor": 0
      },
      "text/plain": [
       "  0%|          | 0/1005 [00:01<?, ?it/s]"
      ]
     },
     "metadata": {},
     "output_type": "display_data"
    },
    {
     "name": "stdout",
     "output_type": "stream",
     "text": [
      "Model saved! Previous loss: 99999.0000 --> Current losws: 0.1512 | Dice loss: 0.1112\n",
      "Epochs: 68\n"
     ]
    },
    {
     "data": {
      "application/vnd.jupyter.widget-view+json": {
       "model_id": "14160edcbfe74afb8bab941275dba5d3",
       "version_major": 2,
       "version_minor": 0
      },
      "text/plain": [
       "  0%|          | 0/1005 [00:01<?, ?it/s]"
      ]
     },
     "metadata": {},
     "output_type": "display_data"
    },
    {
     "name": "stdout",
     "output_type": "stream",
     "text": [
      "Model saved! Previous loss: 99999.0000 --> Current losws: 0.1514 | Dice loss: 0.1113\n",
      "Epochs: 69\n"
     ]
    },
    {
     "data": {
      "application/vnd.jupyter.widget-view+json": {
       "model_id": "70196b31c7df4f36b401f7e2f1dc5940",
       "version_major": 2,
       "version_minor": 0
      },
      "text/plain": [
       "  0%|          | 0/1005 [00:01<?, ?it/s]"
      ]
     },
     "metadata": {},
     "output_type": "display_data"
    },
    {
     "name": "stdout",
     "output_type": "stream",
     "text": [
      "Model saved! Previous loss: 99999.0000 --> Current losws: 0.1508 | Dice loss: 0.1109\n",
      "Epochs: 70\n"
     ]
    },
    {
     "data": {
      "application/vnd.jupyter.widget-view+json": {
       "model_id": "d8ee1ae3fd974dd9a12c0b8fd2d83d71",
       "version_major": 2,
       "version_minor": 0
      },
      "text/plain": [
       "  0%|          | 0/1005 [00:01<?, ?it/s]"
      ]
     },
     "metadata": {},
     "output_type": "display_data"
    },
    {
     "name": "stdout",
     "output_type": "stream",
     "text": [
      "Model saved! Previous loss: 99999.0000 --> Current losws: 0.1502 | Dice loss: 0.1103\n",
      "Epochs: 71\n"
     ]
    },
    {
     "data": {
      "application/vnd.jupyter.widget-view+json": {
       "model_id": "fa2a111debb64f71a85937dd1007e69a",
       "version_major": 2,
       "version_minor": 0
      },
      "text/plain": [
       "  0%|          | 0/1005 [00:01<?, ?it/s]"
      ]
     },
     "metadata": {},
     "output_type": "display_data"
    },
    {
     "name": "stdout",
     "output_type": "stream",
     "text": [
      "Model saved! Previous loss: 99999.0000 --> Current losws: 0.1491 | Dice loss: 0.1095\n",
      "Epochs: 72\n"
     ]
    },
    {
     "data": {
      "application/vnd.jupyter.widget-view+json": {
       "model_id": "983cce8362a3429791b0c74bb8ac11bc",
       "version_major": 2,
       "version_minor": 0
      },
      "text/plain": [
       "  0%|          | 0/1005 [00:00<?, ?it/s]"
      ]
     },
     "metadata": {},
     "output_type": "display_data"
    },
    {
     "name": "stdout",
     "output_type": "stream",
     "text": [
      "Model saved! Previous loss: 99999.0000 --> Current losws: 0.1493 | Dice loss: 0.1097\n",
      "Epochs: 73\n"
     ]
    },
    {
     "data": {
      "application/vnd.jupyter.widget-view+json": {
       "model_id": "968bc0351ca449ad970c3ff84c2058e7",
       "version_major": 2,
       "version_minor": 0
      },
      "text/plain": [
       "  0%|          | 0/1005 [00:01<?, ?it/s]"
      ]
     },
     "metadata": {},
     "output_type": "display_data"
    },
    {
     "name": "stdout",
     "output_type": "stream",
     "text": [
      "Model saved! Previous loss: 99999.0000 --> Current losws: 0.1490 | Dice loss: 0.1096\n",
      "Epochs: 74\n"
     ]
    },
    {
     "data": {
      "application/vnd.jupyter.widget-view+json": {
       "model_id": "0b30d798c34c43e68f015ebf83025d16",
       "version_major": 2,
       "version_minor": 0
      },
      "text/plain": [
       "  0%|          | 0/1005 [00:01<?, ?it/s]"
      ]
     },
     "metadata": {},
     "output_type": "display_data"
    },
    {
     "name": "stdout",
     "output_type": "stream",
     "text": [
      "Model saved! Previous loss: 99999.0000 --> Current losws: 0.1484 | Dice loss: 0.1090\n",
      "Epochs: 75\n"
     ]
    },
    {
     "data": {
      "application/vnd.jupyter.widget-view+json": {
       "model_id": "21ecd92b30c441ff87829a0aaab43a4d",
       "version_major": 2,
       "version_minor": 0
      },
      "text/plain": [
       "  0%|          | 0/1005 [00:00<?, ?it/s]"
      ]
     },
     "metadata": {},
     "output_type": "display_data"
    },
    {
     "name": "stdout",
     "output_type": "stream",
     "text": [
      "Model saved! Previous loss: 99999.0000 --> Current losws: 0.1476 | Dice loss: 0.1085\n",
      "Epochs: 76\n"
     ]
    },
    {
     "data": {
      "application/vnd.jupyter.widget-view+json": {
       "model_id": "0fbb83a796f94ae8ac192ed0e0694ce8",
       "version_major": 2,
       "version_minor": 0
      },
      "text/plain": [
       "  0%|          | 0/1005 [00:00<?, ?it/s]"
      ]
     },
     "metadata": {},
     "output_type": "display_data"
    },
    {
     "name": "stdout",
     "output_type": "stream",
     "text": [
      "Model saved! Previous loss: 99999.0000 --> Current losws: 0.1469 | Dice loss: 0.1080\n",
      "Epochs: 77\n"
     ]
    },
    {
     "data": {
      "application/vnd.jupyter.widget-view+json": {
       "model_id": "0e784ae8fe3046d28a66b91b3392be35",
       "version_major": 2,
       "version_minor": 0
      },
      "text/plain": [
       "  0%|          | 0/1005 [00:00<?, ?it/s]"
      ]
     },
     "metadata": {},
     "output_type": "display_data"
    },
    {
     "name": "stdout",
     "output_type": "stream",
     "text": [
      "Model saved! Previous loss: 99999.0000 --> Current losws: 0.1474 | Dice loss: 0.1082\n",
      "Epochs: 78\n"
     ]
    },
    {
     "data": {
      "application/vnd.jupyter.widget-view+json": {
       "model_id": "b3ebc9f8f88a4db397e4a7000616d2ba",
       "version_major": 2,
       "version_minor": 0
      },
      "text/plain": [
       "  0%|          | 0/1005 [00:01<?, ?it/s]"
      ]
     },
     "metadata": {},
     "output_type": "display_data"
    },
    {
     "name": "stdout",
     "output_type": "stream",
     "text": [
      "Model saved! Previous loss: 99999.0000 --> Current losws: 0.1465 | Dice loss: 0.1077\n",
      "Epochs: 79\n"
     ]
    },
    {
     "data": {
      "application/vnd.jupyter.widget-view+json": {
       "model_id": "49728266ec80475895f59b0d35c43a37",
       "version_major": 2,
       "version_minor": 0
      },
      "text/plain": [
       "  0%|          | 0/1005 [00:00<?, ?it/s]"
      ]
     },
     "metadata": {},
     "output_type": "display_data"
    },
    {
     "name": "stdout",
     "output_type": "stream",
     "text": [
      "Model saved! Previous loss: 99999.0000 --> Current losws: 0.1462 | Dice loss: 0.1075\n",
      "Epochs: 80\n"
     ]
    },
    {
     "data": {
      "application/vnd.jupyter.widget-view+json": {
       "model_id": "3f1eca42ffaa4794a4d504d348fbb556",
       "version_major": 2,
       "version_minor": 0
      },
      "text/plain": [
       "  0%|          | 0/1005 [00:00<?, ?it/s]"
      ]
     },
     "metadata": {},
     "output_type": "display_data"
    },
    {
     "name": "stdout",
     "output_type": "stream",
     "text": [
      "Model saved! Previous loss: 99999.0000 --> Current losws: 0.1461 | Dice loss: 0.1074\n",
      "Epochs: 81\n"
     ]
    },
    {
     "data": {
      "application/vnd.jupyter.widget-view+json": {
       "model_id": "c3243a8a44874dafb06433d23a430d4a",
       "version_major": 2,
       "version_minor": 0
      },
      "text/plain": [
       "  0%|          | 0/1005 [00:00<?, ?it/s]"
      ]
     },
     "metadata": {},
     "output_type": "display_data"
    },
    {
     "name": "stdout",
     "output_type": "stream",
     "text": [
      "Model saved! Previous loss: 99999.0000 --> Current losws: 0.1449 | Dice loss: 0.1066\n",
      "Epochs: 82\n"
     ]
    },
    {
     "data": {
      "application/vnd.jupyter.widget-view+json": {
       "model_id": "f64a732a7f0241f2b11f17f564eee8a9",
       "version_major": 2,
       "version_minor": 0
      },
      "text/plain": [
       "  0%|          | 0/1005 [00:00<?, ?it/s]"
      ]
     },
     "metadata": {},
     "output_type": "display_data"
    },
    {
     "name": "stdout",
     "output_type": "stream",
     "text": [
      "Model saved! Previous loss: 99999.0000 --> Current losws: 0.1459 | Dice loss: 0.1073\n",
      "Epochs: 83\n"
     ]
    },
    {
     "data": {
      "application/vnd.jupyter.widget-view+json": {
       "model_id": "415378c0979d4162a11acea2969c2b07",
       "version_major": 2,
       "version_minor": 0
      },
      "text/plain": [
       "  0%|          | 0/1005 [00:00<?, ?it/s]"
      ]
     },
     "metadata": {},
     "output_type": "display_data"
    },
    {
     "name": "stdout",
     "output_type": "stream",
     "text": [
      "Model saved! Previous loss: 99999.0000 --> Current losws: 0.1458 | Dice loss: 0.1072\n",
      "Epochs: 84\n"
     ]
    },
    {
     "data": {
      "application/vnd.jupyter.widget-view+json": {
       "model_id": "099b2851d9634ade8a23285b86a9334f",
       "version_major": 2,
       "version_minor": 0
      },
      "text/plain": [
       "  0%|          | 0/1005 [00:00<?, ?it/s]"
      ]
     },
     "metadata": {},
     "output_type": "display_data"
    },
    {
     "name": "stdout",
     "output_type": "stream",
     "text": [
      "Model saved! Previous loss: 99999.0000 --> Current losws: 0.1452 | Dice loss: 0.1068\n",
      "Epochs: 85\n"
     ]
    },
    {
     "data": {
      "application/vnd.jupyter.widget-view+json": {
       "model_id": "8fc8d8c169bf46db8891c43a951a79e1",
       "version_major": 2,
       "version_minor": 0
      },
      "text/plain": [
       "  0%|          | 0/1005 [00:00<?, ?it/s]"
      ]
     },
     "metadata": {},
     "output_type": "display_data"
    },
    {
     "name": "stdout",
     "output_type": "stream",
     "text": [
      "Model saved! Previous loss: 99999.0000 --> Current losws: 0.1454 | Dice loss: 0.1069\n",
      "Epochs: 86\n"
     ]
    },
    {
     "data": {
      "application/vnd.jupyter.widget-view+json": {
       "model_id": "823c0efeea6f40b1bd8e985596674085",
       "version_major": 2,
       "version_minor": 0
      },
      "text/plain": [
       "  0%|          | 0/1005 [00:00<?, ?it/s]"
      ]
     },
     "metadata": {},
     "output_type": "display_data"
    },
    {
     "name": "stdout",
     "output_type": "stream",
     "text": [
      "Model saved! Previous loss: 99999.0000 --> Current losws: 0.1446 | Dice loss: 0.1063\n",
      "Epochs: 87\n"
     ]
    },
    {
     "data": {
      "application/vnd.jupyter.widget-view+json": {
       "model_id": "3b43458813144ffa8821b6aba1030c59",
       "version_major": 2,
       "version_minor": 0
      },
      "text/plain": [
       "  0%|          | 0/1005 [00:00<?, ?it/s]"
      ]
     },
     "metadata": {},
     "output_type": "display_data"
    },
    {
     "name": "stdout",
     "output_type": "stream",
     "text": [
      "Model saved! Previous loss: 99999.0000 --> Current losws: 0.1452 | Dice loss: 0.1070\n",
      "Epochs: 88\n"
     ]
    },
    {
     "data": {
      "application/vnd.jupyter.widget-view+json": {
       "model_id": "16d1e8124cce4602909ac9a271464af0",
       "version_major": 2,
       "version_minor": 0
      },
      "text/plain": [
       "  0%|          | 0/1005 [00:00<?, ?it/s]"
      ]
     },
     "metadata": {},
     "output_type": "display_data"
    },
    {
     "name": "stdout",
     "output_type": "stream",
     "text": [
      "Model saved! Previous loss: 99999.0000 --> Current losws: 0.1440 | Dice loss: 0.1059\n",
      "Epochs: 89\n"
     ]
    },
    {
     "data": {
      "application/vnd.jupyter.widget-view+json": {
       "model_id": "6dd29c8ea9d549829657135fb9dfcbc7",
       "version_major": 2,
       "version_minor": 0
      },
      "text/plain": [
       "  0%|          | 0/1005 [00:00<?, ?it/s]"
      ]
     },
     "metadata": {},
     "output_type": "display_data"
    },
    {
     "name": "stdout",
     "output_type": "stream",
     "text": [
      "Model saved! Previous loss: 99999.0000 --> Current losws: 0.1440 | Dice loss: 0.1060\n",
      "Epochs: 90\n"
     ]
    },
    {
     "data": {
      "application/vnd.jupyter.widget-view+json": {
       "model_id": "def7a9bf04174cb99bfd0f057dcea1ee",
       "version_major": 2,
       "version_minor": 0
      },
      "text/plain": [
       "  0%|          | 0/1005 [00:00<?, ?it/s]"
      ]
     },
     "metadata": {},
     "output_type": "display_data"
    },
    {
     "name": "stdout",
     "output_type": "stream",
     "text": [
      "Model saved! Previous loss: 99999.0000 --> Current losws: 0.1443 | Dice loss: 0.1061\n",
      "Epochs: 91\n"
     ]
    },
    {
     "data": {
      "application/vnd.jupyter.widget-view+json": {
       "model_id": "37b6f86157be42dcb86de0789776c851",
       "version_major": 2,
       "version_minor": 0
      },
      "text/plain": [
       "  0%|          | 0/1005 [00:00<?, ?it/s]"
      ]
     },
     "metadata": {},
     "output_type": "display_data"
    },
    {
     "name": "stdout",
     "output_type": "stream",
     "text": [
      "Model saved! Previous loss: 99999.0000 --> Current losws: 0.1442 | Dice loss: 0.1061\n",
      "Epochs: 92\n"
     ]
    },
    {
     "data": {
      "application/vnd.jupyter.widget-view+json": {
       "model_id": "8369d9c6ee1741ddbcf25d00cd67d025",
       "version_major": 2,
       "version_minor": 0
      },
      "text/plain": [
       "  0%|          | 0/1005 [00:00<?, ?it/s]"
      ]
     },
     "metadata": {},
     "output_type": "display_data"
    },
    {
     "name": "stdout",
     "output_type": "stream",
     "text": [
      "Model saved! Previous loss: 99999.0000 --> Current losws: 0.1447 | Dice loss: 0.1062\n",
      "Epochs: 93\n"
     ]
    },
    {
     "data": {
      "application/vnd.jupyter.widget-view+json": {
       "model_id": "80b8bb66f8094eefb15337e62e584c13",
       "version_major": 2,
       "version_minor": 0
      },
      "text/plain": [
       "  0%|          | 0/1005 [00:00<?, ?it/s]"
      ]
     },
     "metadata": {},
     "output_type": "display_data"
    },
    {
     "name": "stdout",
     "output_type": "stream",
     "text": [
      "Model saved! Previous loss: 99999.0000 --> Current losws: 0.1437 | Dice loss: 0.1058\n",
      "Epochs: 94\n"
     ]
    },
    {
     "data": {
      "application/vnd.jupyter.widget-view+json": {
       "model_id": "b5c399ea4a9746448d20a6191272ada0",
       "version_major": 2,
       "version_minor": 0
      },
      "text/plain": [
       "  0%|          | 0/1005 [00:00<?, ?it/s]"
      ]
     },
     "metadata": {},
     "output_type": "display_data"
    },
    {
     "name": "stdout",
     "output_type": "stream",
     "text": [
      "Model saved! Previous loss: 99999.0000 --> Current losws: 0.1435 | Dice loss: 0.1056\n",
      "Epochs: 95\n"
     ]
    },
    {
     "data": {
      "application/vnd.jupyter.widget-view+json": {
       "model_id": "6a701adc985248b49d1648dab6481652",
       "version_major": 2,
       "version_minor": 0
      },
      "text/plain": [
       "  0%|          | 0/1005 [00:00<?, ?it/s]"
      ]
     },
     "metadata": {},
     "output_type": "display_data"
    },
    {
     "name": "stdout",
     "output_type": "stream",
     "text": [
      "Model saved! Previous loss: 99999.0000 --> Current losws: 0.1438 | Dice loss: 0.1057\n",
      "Epochs: 96\n"
     ]
    },
    {
     "data": {
      "application/vnd.jupyter.widget-view+json": {
       "model_id": "bebc1d13475f4d51a3f4da332e998bd4",
       "version_major": 2,
       "version_minor": 0
      },
      "text/plain": [
       "  0%|          | 0/1005 [00:00<?, ?it/s]"
      ]
     },
     "metadata": {},
     "output_type": "display_data"
    },
    {
     "name": "stdout",
     "output_type": "stream",
     "text": [
      "Model saved! Previous loss: 99999.0000 --> Current losws: 0.1440 | Dice loss: 0.1058\n",
      "Epochs: 97\n"
     ]
    },
    {
     "data": {
      "application/vnd.jupyter.widget-view+json": {
       "model_id": "1a841cade1c04e6f8b7a2404bdef6487",
       "version_major": 2,
       "version_minor": 0
      },
      "text/plain": [
       "  0%|          | 0/1005 [00:00<?, ?it/s]"
      ]
     },
     "metadata": {},
     "output_type": "display_data"
    },
    {
     "name": "stdout",
     "output_type": "stream",
     "text": [
      "Model saved! Previous loss: 99999.0000 --> Current losws: 0.1452 | Dice loss: 0.1064\n",
      "Epochs: 98\n"
     ]
    },
    {
     "data": {
      "application/vnd.jupyter.widget-view+json": {
       "model_id": "fd54e19d47344fda9a60c36353fb3b6b",
       "version_major": 2,
       "version_minor": 0
      },
      "text/plain": [
       "  0%|          | 0/1005 [00:00<?, ?it/s]"
      ]
     },
     "metadata": {},
     "output_type": "display_data"
    },
    {
     "name": "stdout",
     "output_type": "stream",
     "text": [
      "Model saved! Previous loss: 99999.0000 --> Current losws: 0.1434 | Dice loss: 0.1055\n",
      "Epochs: 99\n"
     ]
    },
    {
     "data": {
      "application/vnd.jupyter.widget-view+json": {
       "model_id": "0156a9e6ec5d4a05a3e8528288959733",
       "version_major": 2,
       "version_minor": 0
      },
      "text/plain": [
       "  0%|          | 0/1005 [00:00<?, ?it/s]"
      ]
     },
     "metadata": {},
     "output_type": "display_data"
    },
    {
     "name": "stdout",
     "output_type": "stream",
     "text": [
      "Model saved! Previous loss: 99999.0000 --> Current losws: 0.1433 | Dice loss: 0.1056\n"
     ]
    }
   ],
   "source": [
    "import warnings\n",
    "warnings.filterwarnings(\"ignore\")\n",
    "from torch.optim.lr_scheduler import CosineAnnealingLR\n",
    "epochs = 100\n",
    "optimizer = torch.optim.AdamW(model.parameters(), lr=1e-4)\n",
    "scheduler = CosineAnnealingLR(optimizer, T_max=epochs,verbose=False)\n",
    "valid_loss_min = 99999\n",
    "file_name = 'Best_UPP' # 모델 변경 때 마다 file_name 수정\n",
    "# file_name = 'Best_DL'\n",
    "# file_name = 'Best_FPN'\n",
    "for e in range(epochs):\n",
    "    print('Epochs:', e)\n",
    "    train_loss, dice_loss = run_epoch(model, train_loader, optimizer, True)\n",
    "    #valid_loss, dice_loss = run_epoch(model, valid_loader, optimizer, False) # validation 진행 안함\n",
    "    scheduler.step()\n",
    "    print(f\"Model saved! Previous loss: {valid_loss_min:.4f} --> Current losws: {train_loss:.4f} | Dice loss: {dice_loss:.4f}\")\n",
    "\n",
    "    # model save\n",
    "    model_filename = f\"{file_name}.pt\"\n",
    "    torch.save(model.state_dict(), model_filename)\n",
    "\n",
    "    with open(f'{file_name}.txt', 'a') as f:\n",
    "        f.write(f'Epochs: {e}, model save! prev loss: {valid_loss_min:.5f} --> maximum loss: {train_loss:5f}, dice score: {dice_loss:5f}\\n')"
   ]
  },
  {
   "cell_type": "markdown",
   "id": "9b9bbc9c",
   "metadata": {},
   "source": []
  }
 ],
 "metadata": {
  "kernelspec": {
   "display_name": "QCPR",
   "language": "python",
   "name": "python3"
  },
  "language_info": {
   "codemirror_mode": {
    "name": "ipython",
    "version": 3
   },
   "file_extension": ".py",
   "mimetype": "text/x-python",
   "name": "python",
   "nbconvert_exporter": "python",
   "pygments_lexer": "ipython3",
   "version": "3.8.13"
  }
 },
 "nbformat": 4,
 "nbformat_minor": 5
}
